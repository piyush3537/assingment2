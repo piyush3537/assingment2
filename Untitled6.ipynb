{
 "cells": [
  {
   "cell_type": "code",
   "execution_count": 2,
   "id": "74ef4236-62d5-4099-82b8-35990366123d",
   "metadata": {},
   "outputs": [
    {
     "name": "stdout",
     "output_type": "stream",
     "text": [
      "Array: [0 1 2 3 4 5]\n",
      "Data type: int32\n"
     ]
    }
   ],
   "source": [
    "import numpy as np\n",
    "\n",
    "arr = np.arange(6)\n",
    "print(\"Array:\", arr)\n",
    "print(\"Data type:\", arr.dtype)\n"
   ]
  },
  {
   "cell_type": "code",
   "execution_count": 4,
   "id": "ffb8c742-2d7b-4427-a444-7edb1cb60156",
   "metadata": {},
   "outputs": [
    {
     "name": "stdout",
     "output_type": "stream",
     "text": [
      "Is float64: True\n"
     ]
    }
   ],
   "source": [
    "def is_float64(arr):\n",
    "    return arr.dtype == np.float64\n",
    "\n",
    "# Example usage\n",
    "arr = np.array([1.0, 2.0, 3.0])\n",
    "print(\"Is float64:\", is_float64(arr))\n",
    "\n"
   ]
  },
  {
   "cell_type": "code",
   "execution_count": 6,
   "id": "5928235d-3d91-48cc-afb8-e3c55b773bfd",
   "metadata": {},
   "outputs": [
    {
     "name": "stdout",
     "output_type": "stream",
     "text": [
      "Complex array: [1.+2.j 3.+4.j 5.+6.j]\n",
      "Data type: complex128\n"
     ]
    }
   ],
   "source": [
    "arr = np.array([1+2j, 3+4j, 5+6j], dtype=np.complex128)\n",
    "print(\"Complex array:\", arr)\n",
    "print(\"Data type:\", arr.dtype)\n"
   ]
  },
  {
   "cell_type": "code",
   "execution_count": 8,
   "id": "71d30541-a3b6-42c7-8500-eb176ba4cbda",
   "metadata": {},
   "outputs": [
    {
     "name": "stdout",
     "output_type": "stream",
     "text": [
      "Float32 array: [1. 2. 3. 4. 5.]\n",
      "Data type: float32\n"
     ]
    }
   ],
   "source": [
    "arr = np.array([1, 2, 3, 4, 5])\n",
    "float_arr = arr.astype(np.float32)\n",
    "print(\"Float32 array:\", float_arr)\n",
    "print(\"Data type:\", float_arr.dtype)\n"
   ]
  },
  {
   "cell_type": "code",
   "execution_count": 10,
   "id": "a0b86018-37b9-4288-996a-637911644c9f",
   "metadata": {},
   "outputs": [
    {
     "name": "stdout",
     "output_type": "stream",
     "text": [
      "Converted array: [1.1 2.2 3.3]\n",
      "Data type: float32\n"
     ]
    }
   ],
   "source": [
    "arr = np.array([1.1, 2.2, 3.3], dtype=np.float64)\n",
    "converted = arr.astype(np.float32)\n",
    "print(\"Converted array:\", converted)\n",
    "print(\"Data type:\", converted.dtype)\n"
   ]
  },
  {
   "cell_type": "code",
   "execution_count": 12,
   "id": "b4ccdd3e-856e-44b1-bec0-cb8f21a8833a",
   "metadata": {},
   "outputs": [
    {
     "name": "stdout",
     "output_type": "stream",
     "text": [
      "Attributes: ((2, 2), 4, dtype('int32'))\n"
     ]
    }
   ],
   "source": [
    "def array_attributes(arr):\n",
    "    return arr.shape, arr.size, arr.dtype\n",
    "\n",
    "# Example usage\n",
    "arr = np.array([[1, 2], [3, 4]])\n",
    "print(\"Attributes:\", array_attributes(arr))\n"
   ]
  },
  {
   "cell_type": "code",
   "execution_count": 14,
   "id": "0c65350b-1162-4953-b046-f61d8a0879b0",
   "metadata": {},
   "outputs": [
    {
     "name": "stdout",
     "output_type": "stream",
     "text": [
      "Dimensionality: 2\n"
     ]
    }
   ],
   "source": [
    "def array_dimension(arr):\n",
    "    return arr.ndim\n",
    "\n",
    "# Example usage\n",
    "arr = np.array([[1, 2], [3, 4]])\n",
    "print(\"Dimensionality:\", array_dimension(arr))\n"
   ]
  },
  {
   "cell_type": "code",
   "execution_count": 16,
   "id": "aee2a198-a6c9-4107-b148-3e3de6128a61",
   "metadata": {},
   "outputs": [
    {
     "name": "stdout",
     "output_type": "stream",
     "text": [
      "Item size and total size (bytes): (4, 16)\n"
     ]
    }
   ],
   "source": [
    "def item_size_info(arr):\n",
    "    return arr.itemsize, arr.nbytes\n",
    "\n",
    "# Example usage\n",
    "arr = np.array([[1, 2], [3, 4]])\n",
    "print(\"Item size and total size (bytes):\", item_size_info(arr))\n"
   ]
  },
  {
   "cell_type": "code",
   "execution_count": 18,
   "id": "58496f61-1414-4bc0-a40b-82d0d8bd43ff",
   "metadata": {},
   "outputs": [
    {
     "name": "stdout",
     "output_type": "stream",
     "text": [
      "Strides: (8, 4)\n"
     ]
    }
   ],
   "source": [
    "def array_strides(arr):\n",
    "    return arr.strides\n",
    "\n",
    "# Example usage\n",
    "arr = np.array([[1, 2], [3, 4]])\n",
    "print(\"Strides:\", array_strides(arr))\n"
   ]
  },
  {
   "cell_type": "code",
   "execution_count": 20,
   "id": "7feec9ef-531c-4518-800a-bc25a70dc89c",
   "metadata": {},
   "outputs": [
    {
     "name": "stdout",
     "output_type": "stream",
     "text": [
      "Shape and strides: ((2, 2), (8, 4))\n"
     ]
    }
   ],
   "source": [
    "def shape_stride_relationship(arr):\n",
    "    return arr.shape, arr.strides\n",
    "\n",
    "# Example usage\n",
    "arr = np.array([[1, 2], [3, 4]])\n",
    "print(\"Shape and strides:\", shape_stride_relationship(arr))\n"
   ]
  },
  {
   "cell_type": "code",
   "execution_count": 22,
   "id": "6c64244c-8127-4d23-b307-5993fd2d3d22",
   "metadata": {},
   "outputs": [
    {
     "name": "stdout",
     "output_type": "stream",
     "text": [
      "[0. 0. 0. 0. 0.]\n"
     ]
    }
   ],
   "source": [
    "def create_zeros_array(n):\n",
    "    return np.zeros(n)\n",
    "\n",
    "# Example usage\n",
    "print(create_zeros_array(5))\n"
   ]
  },
  {
   "cell_type": "code",
   "execution_count": 24,
   "id": "7b7c2f01-8da0-42db-9a5f-17df99463d8e",
   "metadata": {},
   "outputs": [
    {
     "name": "stdout",
     "output_type": "stream",
     "text": [
      "[[1. 1. 1.]\n",
      " [1. 1. 1.]]\n"
     ]
    }
   ],
   "source": [
    "def create_ones_matrix(rows, cols):\n",
    "    return np.ones((rows, cols))\n",
    "\n",
    "# Example usage\n",
    "print(create_ones_matrix(2, 3))\n"
   ]
  },
  {
   "cell_type": "code",
   "execution_count": 26,
   "id": "d2281c1e-7ed9-4d82-a583-f7abaea686db",
   "metadata": {},
   "outputs": [
    {
     "name": "stdout",
     "output_type": "stream",
     "text": [
      "[0 2 4 6 8]\n"
     ]
    }
   ],
   "source": [
    "def generate_range_array(start, stop, step):\n",
    "    return np.arange(start, stop, step)\n",
    "\n",
    "# Example usage\n",
    "print(generate_range_array(0, 10, 2))\n"
   ]
  },
  {
   "cell_type": "code",
   "execution_count": 28,
   "id": "bf412d45-f31d-4ed3-a1b4-f948f4f44cd6",
   "metadata": {},
   "outputs": [
    {
     "name": "stdout",
     "output_type": "stream",
     "text": [
      "[0.   0.25 0.5  0.75 1.  ]\n"
     ]
    }
   ],
   "source": [
    "def generate_linear_space(start, stop, num):\n",
    "    return np.linspace(start, stop, num)\n",
    "\n",
    "# Example usage\n",
    "print(generate_linear_space(0, 1, 5))\n"
   ]
  },
  {
   "cell_type": "code",
   "execution_count": 30,
   "id": "23260317-1eb8-4602-8189-147959e00b36",
   "metadata": {},
   "outputs": [
    {
     "name": "stdout",
     "output_type": "stream",
     "text": [
      "[[1. 0. 0.]\n",
      " [0. 1. 0.]\n",
      " [0. 0. 1.]]\n"
     ]
    }
   ],
   "source": [
    "def create_identity_matrix(n):\n",
    "    return np.eye(n)\n",
    "\n",
    "# Example usage\n",
    "print(create_identity_matrix(3))\n"
   ]
  },
  {
   "cell_type": "code",
   "execution_count": 32,
   "id": "1497571f-9388-4196-b9f9-a2579e3389bb",
   "metadata": {},
   "outputs": [
    {
     "name": "stdout",
     "output_type": "stream",
     "text": [
      "[1 2 3 4]\n"
     ]
    }
   ],
   "source": [
    "def list_to_array(lst):\n",
    "    return np.array(lst)\n",
    "\n",
    "# Example usage\n",
    "print(list_to_array([1, 2, 3, 4]))\n"
   ]
  },
  {
   "cell_type": "code",
   "execution_count": 34,
   "id": "f6d1d881-8cab-4b15-a71c-034d92ff0067",
   "metadata": {},
   "outputs": [
    {
     "name": "stdout",
     "output_type": "stream",
     "text": [
      "Original array: [10 20 30 40]\n",
      "View of array: [10 20 30 40]\n"
     ]
    }
   ],
   "source": [
    "arr = np.array([10, 20, 30, 40])\n",
    "view_arr = arr.view()\n",
    "\n",
    "print(\"Original array:\", arr)\n",
    "print(\"View of array:\", view_arr)\n"
   ]
  },
  {
   "cell_type": "code",
   "execution_count": 36,
   "id": "fe5acfb8-48f5-4fb5-9f18-3ba20800e294",
   "metadata": {},
   "outputs": [
    {
     "name": "stdout",
     "output_type": "stream",
     "text": [
      "[[1 2]\n",
      " [3 4]\n",
      " [5 6]\n",
      " [7 8]]\n"
     ]
    }
   ],
   "source": [
    "def concatenate_arrays(arr1, arr2, axis=0):\n",
    "    return np.concatenate((arr1, arr2), axis=axis)\n",
    "\n",
    "# Example usage\n",
    "a = np.array([[1, 2], [3, 4]])\n",
    "b = np.array([[5, 6], [7, 8]])\n",
    "print(concatenate_arrays(a, b, axis=0))\n"
   ]
  },
  {
   "cell_type": "code",
   "execution_count": 38,
   "id": "e06ea86c-cfdd-4460-a594-5eeb22a6bfa9",
   "metadata": {},
   "outputs": [
    {
     "name": "stdout",
     "output_type": "stream",
     "text": [
      "[[1 3]\n",
      " [2 4]]\n"
     ]
    }
   ],
   "source": [
    "def concat_different_shapes():\n",
    "    a = np.array([[1], [2]])\n",
    "    b = np.array([[3, 4]])\n",
    "    # Reshape b to match row count\n",
    "    b_reshaped = np.reshape(b, (2, 1))\n",
    "    return np.concatenate((a, b_reshaped), axis=1)\n",
    "\n",
    "print(concat_different_shapes())\n"
   ]
  },
  {
   "cell_type": "code",
   "execution_count": 40,
   "id": "f1ef2e70-f7dc-453c-820a-de5ac090be67",
   "metadata": {},
   "outputs": [
    {
     "name": "stdout",
     "output_type": "stream",
     "text": [
      "[[1 2]\n",
      " [3 4]\n",
      " [5 6]]\n"
     ]
    }
   ],
   "source": [
    "def vertical_stack_list(arrays):\n",
    "    return np.vstack(arrays)\n",
    "\n",
    "# Example usage\n",
    "arr_list = [np.array([1, 2]), np.array([3, 4]), np.array([5, 6])]\n",
    "print(vertical_stack_list(arr_list))\n"
   ]
  },
  {
   "cell_type": "code",
   "execution_count": 42,
   "id": "57951bb1-3071-47a4-a802-e0d7991bfcd3",
   "metadata": {},
   "outputs": [
    {
     "name": "stdout",
     "output_type": "stream",
     "text": [
      "[1 3 5 7 9]\n"
     ]
    }
   ],
   "source": [
    "def generate_integer_range(start, stop, step):\n",
    "    return np.arange(start, stop + 1, step)\n",
    "\n",
    "# Example usage\n",
    "print(generate_integer_range(1, 10, 2))\n"
   ]
  },
  {
   "cell_type": "code",
   "execution_count": 44,
   "id": "75090909-8129-40fd-90e5-b868a5f8e461",
   "metadata": {},
   "outputs": [
    {
     "name": "stdout",
     "output_type": "stream",
     "text": [
      "Equally spaced values: [0.         0.11111111 0.22222222 0.33333333 0.44444444 0.55555556\n",
      " 0.66666667 0.77777778 0.88888889 1.        ]\n"
     ]
    }
   ],
   "source": [
    "arr = np.linspace(0, 1, 10)\n",
    "print(\"Equally spaced values:\", arr)\n"
   ]
  },
  {
   "cell_type": "code",
   "execution_count": 46,
   "id": "1f491c66-d527-4334-83d4-f14cd5bf0029",
   "metadata": {},
   "outputs": [
    {
     "name": "stdout",
     "output_type": "stream",
     "text": [
      "Logarithmically spaced values: [   1.            5.62341325   31.6227766   177.827941   1000.        ]\n"
     ]
    }
   ],
   "source": [
    "arr = np.logspace(0, 3, 5)  # log10(1)=0, log10(1000)=3\n",
    "print(\"Logarithmically spaced values:\", arr)\n"
   ]
  },
  {
   "cell_type": "code",
   "execution_count": 48,
   "id": "c78b2ee4-d3f0-4de5-aeeb-e0ce8c12b8f2",
   "metadata": {},
   "outputs": [
    {
     "name": "stdout",
     "output_type": "stream",
     "text": [
      "    A   B   C\n",
      "0  45  32  49\n",
      "1   5   2   2\n",
      "2  16  77  35\n",
      "3  86  36  85\n",
      "4  72   7   9\n"
     ]
    }
   ],
   "source": [
    "import numpy as np\n",
    "import pandas as pd\n",
    "\n",
    "def create_dataframe():\n",
    "    data = np.random.randint(1, 101, size=(5, 3))\n",
    "    df = pd.DataFrame(data, columns=[\"A\", \"B\", \"C\"])\n",
    "    return df\n",
    "\n",
    "print(create_dataframe())\n"
   ]
  },
  {
   "cell_type": "code",
   "execution_count": 50,
   "id": "7a3f6ee0-16d5-48a1-ad86-55ccccfc541c",
   "metadata": {},
   "outputs": [
    {
     "name": "stdout",
     "output_type": "stream",
     "text": [
      "   A  B\n",
      "0  5  4\n",
      "1  0  2\n",
      "2  8 -7\n",
      "3  0  6\n"
     ]
    }
   ],
   "source": [
    "def replace_negatives_with_zero(df, column):\n",
    "    df[column] = np.where(df[column] < 0, 0, df[column])\n",
    "    return df\n",
    "\n",
    "# Example usage\n",
    "df = pd.DataFrame({\n",
    "    \"A\": [5, -3, 8, -1],\n",
    "    \"B\": [4, 2, -7, 6]\n",
    "})\n",
    "print(replace_negatives_with_zero(df, \"A\"))\n"
   ]
  },
  {
   "cell_type": "code",
   "execution_count": 52,
   "id": "1e1b8687-6bfe-41a6-a4e5-f04ca0352f72",
   "metadata": {},
   "outputs": [
    {
     "name": "stdout",
     "output_type": "stream",
     "text": [
      "3rd element: 30\n"
     ]
    }
   ],
   "source": [
    "arr = np.array([10, 20, 30, 40])\n",
    "print(\"3rd element:\", arr[2])  # 0-based indexing\n"
   ]
  },
  {
   "cell_type": "code",
   "execution_count": 54,
   "id": "7a3d465f-71c9-4b53-8385-4ba79a8a3364",
   "metadata": {},
   "outputs": [
    {
     "name": "stdout",
     "output_type": "stream",
     "text": [
      "Element at (1,2): 6\n"
     ]
    }
   ],
   "source": [
    "arr = np.array([[1, 2, 3], [4, 5, 6]])\n",
    "print(\"Element at (1,2):\", arr[1, 2])\n"
   ]
  },
  {
   "cell_type": "code",
   "execution_count": 56,
   "id": "7d768eda-8f04-4cf3-805f-d750358e97f7",
   "metadata": {},
   "outputs": [
    {
     "name": "stdout",
     "output_type": "stream",
     "text": [
      "Elements > 5: [6 8]\n"
     ]
    }
   ],
   "source": [
    "arr = np.array([1, 6, 3, 8, 5])\n",
    "greater_than_5 = arr[arr > 5]\n",
    "print(\"Elements > 5:\", greater_than_5)\n"
   ]
  },
  {
   "cell_type": "code",
   "execution_count": 58,
   "id": "a8a1ef53-ce90-45d6-a18c-ac1b23a8cb82",
   "metadata": {},
   "outputs": [
    {
     "name": "stdout",
     "output_type": "stream",
     "text": [
      "Slice [2:6]: [2 3 4 5]\n"
     ]
    }
   ],
   "source": [
    "arr = np.array([0, 1, 2, 3, 4, 5, 6])\n",
    "print(\"Slice [2:6]:\", arr[2:6])  # Note: end index is exclusive\n"
   ]
  },
  {
   "cell_type": "code",
   "execution_count": 60,
   "id": "71620f7c-22e6-475e-addc-9477ed873022",
   "metadata": {},
   "outputs": [
    {
     "name": "stdout",
     "output_type": "stream",
     "text": [
      "Sub-array:\n",
      " [[2 3]\n",
      " [5 6]]\n"
     ]
    }
   ],
   "source": [
    "arr = np.array([\n",
    "    [1, 2, 3],\n",
    "    [4, 5, 6],\n",
    "    [7, 8, 9]\n",
    "])\n",
    "sub_array = arr[0:2, 1:3]  # rows 0-1, columns 1-2\n",
    "print(\"Sub-array:\\n\", sub_array)\n"
   ]
  },
  {
   "cell_type": "code",
   "execution_count": 62,
   "id": "ef681a1b-ccbc-468f-b5e3-9383c76dd785",
   "metadata": {},
   "outputs": [
    {
     "name": "stdout",
     "output_type": "stream",
     "text": [
      "Extracted elements: [20 60]\n"
     ]
    }
   ],
   "source": [
    "arr = np.array([[10, 20, 30], [40, 50, 60]])\n",
    "indices = [0, 1]\n",
    "columns = [1, 2]\n",
    "extracted = arr[indices, columns]  # [20, 60]\n",
    "print(\"Extracted elements:\", extracted)\n"
   ]
  },
  {
   "cell_type": "code",
   "execution_count": 64,
   "id": "de801a74-c807-448a-9148-157f99423a26",
   "metadata": {},
   "outputs": [
    {
     "name": "stdout",
     "output_type": "stream",
     "text": [
      "Elements > 5: [8 7]\n"
     ]
    }
   ],
   "source": [
    "arr = np.array([2, 8, 1, 7, 5])\n",
    "threshold = 5\n",
    "filtered = arr[arr > threshold]\n",
    "print(\"Elements > 5:\", filtered)\n"
   ]
  },
  {
   "cell_type": "code",
   "execution_count": 66,
   "id": "9b8ae05e-5734-4c8d-b861-c5109d0a1cac",
   "metadata": {},
   "outputs": [
    {
     "name": "stdout",
     "output_type": "stream",
     "text": [
      "Extracted elements: [ 5 15]\n"
     ]
    }
   ],
   "source": [
    "arr = np.arange(27).reshape((3, 3, 3))\n",
    "i = np.array([0, 1])\n",
    "j = np.array([1, 2])\n",
    "k = np.array([2, 0])\n",
    "extracted = arr[i, j, k]\n",
    "print(\"Extracted elements:\", extracted)\n"
   ]
  },
  {
   "cell_type": "code",
   "execution_count": 68,
   "id": "c1be626d-2611-4f02-a54c-f64aadb72249",
   "metadata": {},
   "outputs": [
    {
     "name": "stdout",
     "output_type": "stream",
     "text": [
      "Between 15 and 30: [20 25]\n"
     ]
    }
   ],
   "source": [
    "arr = np.array([10, 15, 20, 25, 30])\n",
    "filtered = arr[(arr > 15) & (arr < 30)]\n",
    "print(\"Between 15 and 30:\", filtered)\n"
   ]
  },
  {
   "cell_type": "code",
   "execution_count": 70,
   "id": "2d6798e9-3bf0-45db-9251-dd3314f84abc",
   "metadata": {},
   "outputs": [
    {
     "name": "stdout",
     "output_type": "stream",
     "text": [
      "Indexed elements: [20 40 90]\n"
     ]
    }
   ],
   "source": [
    "arr = np.array([[10, 20, 30], [40, 50, 60], [70, 80, 90]])\n",
    "row_indices = np.array([0, 1, 2])\n",
    "col_indices = np.array([1, 0, 2])\n",
    "extracted = arr[row_indices, col_indices]\n",
    "print(\"Indexed elements:\", extracted)\n"
   ]
  },
  {
   "cell_type": "code",
   "execution_count": 72,
   "id": "e2bf3289-ace2-4a2e-a585-937261f41ac2",
   "metadata": {},
   "outputs": [
    {
     "name": "stdout",
     "output_type": "stream",
     "text": [
      "After adding 5: [6 7 8]\n"
     ]
    }
   ],
   "source": [
    "arr = np.array([1, 2, 3])\n",
    "result = arr + 5\n",
    "print(\"After adding 5:\", result)\n"
   ]
  },
  {
   "cell_type": "code",
   "execution_count": 74,
   "id": "139e6941-6d12-4782-b393-816e96a8f523",
   "metadata": {},
   "outputs": [
    {
     "name": "stdout",
     "output_type": "stream",
     "text": [
      "Row-wise multiplication:\n",
      " [[2. 2. 2. 2.]\n",
      " [3. 3. 3. 3.]\n",
      " [4. 4. 4. 4.]]\n"
     ]
    }
   ],
   "source": [
    "arr = np.ones((3, 4))  # shape (3,4)\n",
    "row_factors = np.array([[2], [3], [4]])  # shape (3,1)\n",
    "result = arr * row_factors\n",
    "print(\"Row-wise multiplication:\\n\", result)\n"
   ]
  },
  {
   "cell_type": "code",
   "execution_count": 76,
   "id": "68d7844a-ddc6-4742-bba6-c77a2a780007",
   "metadata": {},
   "outputs": [
    {
     "name": "stdout",
     "output_type": "stream",
     "text": [
      "Broadcasted addition:\n",
      " [[2. 3. 4.]\n",
      " [2. 3. 4.]\n",
      " [2. 3. 4.]\n",
      " [2. 3. 4.]]\n"
     ]
    }
   ],
   "source": [
    "arr = np.ones((4, 3))\n",
    "adder = np.array([[1, 2, 3]])  # shape (1,3)\n",
    "result = arr + adder\n",
    "print(\"Broadcasted addition:\\n\", result)\n"
   ]
  },
  {
   "cell_type": "code",
   "execution_count": 78,
   "id": "ae58eb5a-b542-4513-bdfa-927a9f1dfecb",
   "metadata": {},
   "outputs": [
    {
     "name": "stdout",
     "output_type": "stream",
     "text": [
      "Broadcasted addition:\n",
      " [[11 21 31]\n",
      " [12 22 32]\n",
      " [13 23 33]]\n"
     ]
    }
   ],
   "source": [
    "a = np.array([[1], [2], [3]])  # shape (3,1)\n",
    "b = np.array([[10, 20, 30]])   # shape (1,3)\n",
    "result = a + b  # result shape: (3,3)\n",
    "print(\"Broadcasted addition:\\n\", result)\n"
   ]
  },
  {
   "cell_type": "code",
   "execution_count": 80,
   "id": "0fc72251-a3ec-449f-9133-919689f2a693",
   "metadata": {},
   "outputs": [
    {
     "name": "stdout",
     "output_type": "stream",
     "text": [
      "Shape incompatibility error: operands could not be broadcast together with shapes (2,3) (2,2) \n"
     ]
    }
   ],
   "source": [
    "a = np.ones((2, 3))\n",
    "b = np.ones((2, 2))\n",
    "\n",
    "try:\n",
    "    result = a * b\n",
    "except ValueError as e:\n",
    "    print(\"Shape incompatibility error:\", e)\n"
   ]
  },
  {
   "cell_type": "code",
   "execution_count": 82,
   "id": "14b88767-bf3d-4547-9e5c-28e0a830edfa",
   "metadata": {},
   "outputs": [
    {
     "name": "stdout",
     "output_type": "stream",
     "text": [
      "Column-wise mean: [2.5 3.5 4.5]\n"
     ]
    }
   ],
   "source": [
    "arr = np.array([[1, 2, 3], [4, 5, 6]])\n",
    "print(\"Column-wise mean:\", np.mean(arr, axis=0))\n"
   ]
  },
  {
   "cell_type": "code",
   "execution_count": 84,
   "id": "71862477-a7cb-4a90-85ab-96ac9ad8bd27",
   "metadata": {},
   "outputs": [
    {
     "name": "stdout",
     "output_type": "stream",
     "text": [
      "Row-wise max: [3 6]\n"
     ]
    }
   ],
   "source": [
    "print(\"Row-wise max:\", np.max(arr, axis=1))\n"
   ]
  },
  {
   "cell_type": "code",
   "execution_count": 86,
   "id": "c7967496-d31e-427a-9be4-f6328b1d0be7",
   "metadata": {},
   "outputs": [
    {
     "name": "stdout",
     "output_type": "stream",
     "text": [
      "Indices of max in each column: [1 1 1]\n"
     ]
    }
   ],
   "source": [
    "print(\"Indices of max in each column:\", np.argmax(arr, axis=0))\n"
   ]
  },
  {
   "cell_type": "code",
   "execution_count": 88,
   "id": "2664ff5e-65fd-4d36-87f2-fd52d4c060b0",
   "metadata": {},
   "outputs": [
    {
     "name": "stdout",
     "output_type": "stream",
     "text": [
      "Moving sum (window=2):\n",
      " [[ 3  5  7]\n",
      " [11 13 15]]\n"
     ]
    }
   ],
   "source": [
    "def moving_sum(arr, window=2):\n",
    "    return np.apply_along_axis(lambda x: np.convolve(x, np.ones(window, dtype=int), 'valid'), axis=1, arr=arr)\n",
    "\n",
    "# Example usage\n",
    "arr = np.array([[1, 2, 3, 4], [5, 6, 7, 8]])\n",
    "print(\"Moving sum (window=2):\\n\", moving_sum(arr, 2))\n"
   ]
  },
  {
   "cell_type": "code",
   "execution_count": 90,
   "id": "0be00f39-0d92-4b6a-b61c-1496c860ba01",
   "metadata": {},
   "outputs": [
    {
     "name": "stdout",
     "output_type": "stream",
     "text": [
      "All even in columns: [ True  True]\n"
     ]
    }
   ],
   "source": [
    "arr = np.array([[2, 4], [6, 8]])\n",
    "print(\"All even in columns:\", np.all(arr % 2 == 0, axis=0))\n"
   ]
  },
  {
   "cell_type": "code",
   "execution_count": 92,
   "id": "16bea9c7-8653-4ee2-8578-612e9d2e19d3",
   "metadata": {},
   "outputs": [
    {
     "name": "stdout",
     "output_type": "stream",
     "text": [
      "Reshaped array:\n",
      " [[ 0  1  2  3]\n",
      " [ 4  5  6  7]\n",
      " [ 8  9 10 11]]\n"
     ]
    }
   ],
   "source": [
    "arr = np.arange(12)\n",
    "reshaped = arr.reshape(3, 4)\n",
    "print(\"Reshaped array:\\n\", reshaped)\n"
   ]
  },
  {
   "cell_type": "code",
   "execution_count": 94,
   "id": "d05245df-8b5b-40e6-8f5e-eba9a6505d92",
   "metadata": {},
   "outputs": [
    {
     "name": "stdout",
     "output_type": "stream",
     "text": [
      "Flattened array: [ 0  1  2  3  4  5  6  7  8  9 10 11]\n"
     ]
    }
   ],
   "source": [
    "print(\"Flattened array:\", reshaped.flatten())\n"
   ]
  },
  {
   "cell_type": "code",
   "execution_count": 96,
   "id": "8eb6ba8b-da0c-478e-b0a9-210ddb1c7dc2",
   "metadata": {},
   "outputs": [
    {
     "name": "stdout",
     "output_type": "stream",
     "text": [
      "Concatenated: [[1 2]\n",
      " [3 4]\n",
      " [5 6]]\n"
     ]
    }
   ],
   "source": [
    "a = np.array([[1, 2], [3, 4]])\n",
    "b = np.array([[5, 6]])\n",
    "print(\"Concatenated:\", np.concatenate((a, b), axis=0))\n"
   ]
  },
  {
   "cell_type": "code",
   "execution_count": 98,
   "id": "a790eff3-9037-44c9-b0de-dc1f75f3bd84",
   "metadata": {},
   "outputs": [
    {
     "name": "stdout",
     "output_type": "stream",
     "text": [
      "Split arrays: [array([[1],\n",
      "       [4]]), array([[2],\n",
      "       [5]]), array([[3],\n",
      "       [6]])]\n"
     ]
    }
   ],
   "source": [
    "arr = np.array([[1, 2, 3], [4, 5, 6]])\n",
    "splits = np.split(arr, 3, axis=1)\n",
    "print(\"Split arrays:\", splits)\n"
   ]
  },
  {
   "cell_type": "code",
   "execution_count": 100,
   "id": "8461f4a0-b7ad-4042-8463-63203ac0c98d",
   "metadata": {},
   "outputs": [
    {
     "name": "stdout",
     "output_type": "stream",
     "text": [
      "After insert: [ 1  2 99  3  4  5]\n",
      "After delete: [1 3 4 5]\n"
     ]
    }
   ],
   "source": [
    "arr = np.array([1, 2, 3, 4, 5])\n",
    "arr_inserted = np.insert(arr, 2, 99)\n",
    "arr_deleted = np.delete(arr, 1)\n",
    "print(\"After insert:\", arr_inserted)\n",
    "print(\"After delete:\", arr_deleted)\n",
    "\n",
    "\n"
   ]
  },
  {
   "cell_type": "code",
   "execution_count": 102,
   "id": "ca70d607-4e4d-4dd8-a44c-eeb0c8859a13",
   "metadata": {},
   "outputs": [
    {
     "name": "stdout",
     "output_type": "stream",
     "text": [
      "Addition: [5 7 9]\n"
     ]
    }
   ],
   "source": [
    "arr1 = np.array([1, 2, 3])\n",
    "arr2 = np.array([4, 5, 6])\n",
    "print(\"Addition:\", arr1 + arr2)\n"
   ]
  },
  {
   "cell_type": "code",
   "execution_count": 104,
   "id": "433dde38-8516-4c32-8499-92b51213043d",
   "metadata": {},
   "outputs": [
    {
     "name": "stdout",
     "output_type": "stream",
     "text": [
      "Subtraction: [-3 -3 -3]\n"
     ]
    }
   ],
   "source": [
    "print(\"Subtraction:\", arr1 - arr2)\n"
   ]
  },
  {
   "cell_type": "code",
   "execution_count": 106,
   "id": "4134e723-12d1-487d-8b79-4f8db5a30713",
   "metadata": {},
   "outputs": [
    {
     "name": "stdout",
     "output_type": "stream",
     "text": [
      "Multiplication: [ 4 10 18]\n"
     ]
    }
   ],
   "source": [
    "print(\"Multiplication:\", arr1 * arr2)\n"
   ]
  },
  {
   "cell_type": "code",
   "execution_count": 108,
   "id": "c7f3c858-3e75-42e3-a1c2-c21f09bb5a3c",
   "metadata": {},
   "outputs": [
    {
     "name": "stdout",
     "output_type": "stream",
     "text": [
      "Division: [0.25 0.4  0.5 ]\n"
     ]
    }
   ],
   "source": [
    "print(\"Division:\", arr1 / arr2)\n"
   ]
  },
  {
   "cell_type": "code",
   "execution_count": 110,
   "id": "88892ac2-a9c5-4025-a7ac-9e49589791a9",
   "metadata": {},
   "outputs": [
    {
     "name": "stdout",
     "output_type": "stream",
     "text": [
      "Exponentiation: [  1  32 729]\n"
     ]
    }
   ],
   "source": [
    "print(\"Exponentiation:\", arr1 ** arr2)\n"
   ]
  },
  {
   "cell_type": "code",
   "execution_count": 112,
   "id": "bb8fb7c4-c531-4d2a-8303-1d692faeedbe",
   "metadata": {},
   "outputs": [
    {
     "name": "stdout",
     "output_type": "stream",
     "text": [
      "Occurrences of 'apple': [1 0 1]\n"
     ]
    }
   ],
   "source": [
    "arr = np.array(['apple', 'banana', 'apple pie'])\n",
    "print(\"Occurrences of 'apple':\", np.char.count(arr, 'apple'))\n"
   ]
  },
  {
   "cell_type": "code",
   "execution_count": 114,
   "id": "052bbf98-b05d-49a8-b46c-3306c9ce39b8",
   "metadata": {},
   "outputs": [
    {
     "ename": "AttributeError",
     "evalue": "module 'numpy.core.defchararray' has no attribute 'findall'",
     "output_type": "error",
     "traceback": [
      "\u001b[1;31m---------------------------------------------------------------------------\u001b[0m",
      "\u001b[1;31mAttributeError\u001b[0m                            Traceback (most recent call last)",
      "Cell \u001b[1;32mIn[114], line 2\u001b[0m\n\u001b[0;32m      1\u001b[0m arr \u001b[38;5;241m=\u001b[39m np\u001b[38;5;241m.\u001b[39marray([\u001b[38;5;124m'\u001b[39m\u001b[38;5;124mHello\u001b[39m\u001b[38;5;124m'\u001b[39m, \u001b[38;5;124m'\u001b[39m\u001b[38;5;124mWORLD\u001b[39m\u001b[38;5;124m'\u001b[39m, \u001b[38;5;124m'\u001b[39m\u001b[38;5;124mPython3\u001b[39m\u001b[38;5;124m'\u001b[39m])\n\u001b[1;32m----> 2\u001b[0m uppercase_only \u001b[38;5;241m=\u001b[39m np\u001b[38;5;241m.\u001b[39mchar\u001b[38;5;241m.\u001b[39mfindall(arr, \u001b[38;5;124mr\u001b[39m\u001b[38;5;124m'\u001b[39m\u001b[38;5;124m[A-Z]\u001b[39m\u001b[38;5;124m'\u001b[39m)\n\u001b[0;32m      3\u001b[0m \u001b[38;5;28mprint\u001b[39m(\u001b[38;5;124m\"\u001b[39m\u001b[38;5;124mUppercase chars:\u001b[39m\u001b[38;5;124m\"\u001b[39m, uppercase_only)\n",
      "\u001b[1;31mAttributeError\u001b[0m: module 'numpy.core.defchararray' has no attribute 'findall'"
     ]
    }
   ],
   "source": [
    "arr = np.array(['Hello', 'WORLD', 'Python3'])\n",
    "uppercase_only = np.char.findall(arr, r'[A-Z]')\n",
    "print(\"Uppercase chars:\", uppercase_only)\n"
   ]
  },
  {
   "cell_type": "code",
   "execution_count": 116,
   "id": "d28e152b-1532-483d-9df3-75b497326854",
   "metadata": {},
   "outputs": [
    {
     "name": "stdout",
     "output_type": "stream",
     "text": [
      "Replace 'world' with 'earth': ['hello earth' 'earth peace']\n"
     ]
    }
   ],
   "source": [
    "arr = np.array(['hello world', 'world peace'])\n",
    "print(\"Replace 'world' with 'earth':\", np.char.replace(arr, 'world', 'earth'))\n"
   ]
  },
  {
   "cell_type": "code",
   "execution_count": 118,
   "id": "1b1b3c47-db2e-41e1-8432-4028d91197d6",
   "metadata": {},
   "outputs": [
    {
     "name": "stdout",
     "output_type": "stream",
     "text": [
      "Concatenated: ['foo1' 'bar2']\n"
     ]
    }
   ],
   "source": [
    "arr1 = np.array(['foo', 'bar'])\n",
    "arr2 = np.array(['1', '2'])\n",
    "print(\"Concatenated:\", np.char.add(arr1, arr2))\n"
   ]
  },
  {
   "cell_type": "code",
   "execution_count": 120,
   "id": "a6d57e6d-b1aa-4d9f-af74-0229a78f03e1",
   "metadata": {},
   "outputs": [
    {
     "name": "stdout",
     "output_type": "stream",
     "text": [
      "Longest string length: 10\n"
     ]
    }
   ],
   "source": [
    "arr = np.array(['apple', 'banana', 'cherry pie'])\n",
    "lengths = np.char.str_len(arr)\n",
    "print(\"Longest string length:\", np.max(lengths))\n"
   ]
  },
  {
   "cell_type": "code",
   "execution_count": 122,
   "id": "d4a22cff-8e4a-43ce-a7c1-8df32902bd8c",
   "metadata": {},
   "outputs": [
    {
     "name": "stdout",
     "output_type": "stream",
     "text": [
      "Mean: 478.92\n",
      "Median: 475.5\n",
      "Variance: 72092.0136\n",
      "Std Deviation: 268.49955977617543\n"
     ]
    }
   ],
   "source": [
    "arr = np.random.randint(1, 1001, size=100)\n",
    "print(\"Mean:\", np.mean(arr))\n",
    "print(\"Median:\", np.median(arr))\n",
    "print(\"Variance:\", np.var(arr))\n",
    "print(\"Std Deviation:\", np.std(arr))\n"
   ]
  },
  {
   "cell_type": "code",
   "execution_count": 124,
   "id": "080c61b4-c3e4-4f80-87ef-beed0aef35f2",
   "metadata": {},
   "outputs": [
    {
     "name": "stdout",
     "output_type": "stream",
     "text": [
      "25th percentile: 24.0\n",
      "75th percentile: 67.25\n"
     ]
    }
   ],
   "source": [
    "arr = np.random.randint(1, 101, size=50)\n",
    "p25 = np.percentile(arr, 25)\n",
    "p75 = np.percentile(arr, 75)\n",
    "print(\"25th percentile:\", p25)\n",
    "print(\"75th percentile:\", p75)\n"
   ]
  },
  {
   "cell_type": "code",
   "execution_count": 126,
   "id": "c427d7f8-8a75-41bf-9b7c-bcf41dc80c86",
   "metadata": {},
   "outputs": [
    {
     "name": "stdout",
     "output_type": "stream",
     "text": [
      "Correlation Coefficient Matrix:\n",
      " [[1.         0.21849715]\n",
      " [0.21849715 1.        ]]\n"
     ]
    }
   ],
   "source": [
    "x = np.random.randint(1, 100, 10)\n",
    "y = np.random.randint(1, 100, 10)\n",
    "corr = np.corrcoef(x, y)\n",
    "print(\"Correlation Coefficient Matrix:\\n\", corr)\n"
   ]
  },
  {
   "cell_type": "code",
   "execution_count": 128,
   "id": "c32a12d0-df11-4d69-b812-9f2e7bfe34a3",
   "metadata": {},
   "outputs": [
    {
     "name": "stdout",
     "output_type": "stream",
     "text": [
      "Matrix Multiplication Result:\n",
      " [[19 22]\n",
      " [43 50]]\n"
     ]
    }
   ],
   "source": [
    "a = np.array([[1, 2], [3, 4]])\n",
    "b = np.array([[5, 6], [7, 8]])\n",
    "result = np.dot(a, b)\n",
    "print(\"Matrix Multiplication Result:\\n\", result)\n"
   ]
  },
  {
   "cell_type": "code",
   "execution_count": 130,
   "id": "2189e554-a962-44dd-9222-67aacf7c90e2",
   "metadata": {},
   "outputs": [
    {
     "name": "stdout",
     "output_type": "stream",
     "text": [
      "10th, 50th, 90th Percentiles: [11.9 52.5 90.3]\n",
      "Q1: 27.25  Q3: 81.25\n"
     ]
    }
   ],
   "source": [
    "arr = np.random.randint(1, 100, 50)\n",
    "percentiles = np.percentile(arr, [10, 50, 90])\n",
    "q1 = np.percentile(arr, 25)\n",
    "q3 = np.percentile(arr, 75)\n",
    "print(\"10th, 50th, 90th Percentiles:\", percentiles)\n",
    "print(\"Q1:\", q1, \" Q3:\", q3)\n"
   ]
  },
  {
   "cell_type": "code",
   "execution_count": 132,
   "id": "582ba59d-17f6-4a67-b866-40f88c09d590",
   "metadata": {},
   "outputs": [
    {
     "name": "stdout",
     "output_type": "stream",
     "text": [
      "Index of 30: [2]\n"
     ]
    }
   ],
   "source": [
    "arr = np.array([10, 20, 30, 40, 50])\n",
    "index = np.where(arr == 30)[0]\n",
    "print(\"Index of 30:\", index)\n"
   ]
  },
  {
   "cell_type": "code",
   "execution_count": 134,
   "id": "643723db-abcf-4724-b61b-9a8f33b8662f",
   "metadata": {},
   "outputs": [
    {
     "name": "stdout",
     "output_type": "stream",
     "text": [
      "Sorted array: [ 5  7 15 22 29 42 56 74 77 97]\n"
     ]
    }
   ],
   "source": [
    "arr = np.random.randint(1, 100, 10)\n",
    "sorted_arr = np.sort(arr)\n",
    "print(\"Sorted array:\", sorted_arr)\n"
   ]
  },
  {
   "cell_type": "code",
   "execution_count": 136,
   "id": "cf8002c6-1593-4399-81f9-3b0f93763ebe",
   "metadata": {},
   "outputs": [
    {
     "name": "stdout",
     "output_type": "stream",
     "text": [
      "Elements > 20: [25 40]\n"
     ]
    }
   ],
   "source": [
    "arr = np.array([5, 25, 15, 40])\n",
    "filtered = arr[arr > 20]\n",
    "print(\"Elements > 20:\", filtered)\n"
   ]
  },
  {
   "cell_type": "code",
   "execution_count": 138,
   "id": "b5f0611b-34a7-46a9-8e50-46d3c26fb38e",
   "metadata": {},
   "outputs": [
    {
     "name": "stdout",
     "output_type": "stream",
     "text": [
      "Divisible by 3: [ 9 15 33]\n"
     ]
    }
   ],
   "source": [
    "arr = np.array([9, 10, 15, 22, 33])\n",
    "div_by_3 = arr[arr % 3 == 0]\n",
    "print(\"Divisible by 3:\", div_by_3)\n"
   ]
  },
  {
   "cell_type": "code",
   "execution_count": 140,
   "id": "a628e878-1095-4d25-9570-9ad57841583b",
   "metadata": {},
   "outputs": [
    {
     "name": "stdout",
     "output_type": "stream",
     "text": [
      "Between 20 and 40: [20 30 40]\n"
     ]
    }
   ],
   "source": [
    "arr = np.array([10, 20, 30, 40, 50])\n",
    "filtered = arr[(arr >= 20) & (arr <= 40)]\n",
    "print(\"Between 20 and 40:\", filtered)\n"
   ]
  },
  {
   "cell_type": "code",
   "execution_count": 142,
   "id": "d1d0d4e2-1474-42d3-b690-d105fc7f65ce",
   "metadata": {},
   "outputs": [
    {
     "name": "stdout",
     "output_type": "stream",
     "text": [
      "Byte order: =\n"
     ]
    }
   ],
   "source": [
    "arr = np.array([1, 2, 3], dtype='int16')\n",
    "print(\"Byte order:\", arr.dtype.byteorder)\n"
   ]
  },
  {
   "cell_type": "code",
   "execution_count": 144,
   "id": "9b47c0f7-ac0a-4272-a09f-b2a83f7381d3",
   "metadata": {},
   "outputs": [
    {
     "name": "stdout",
     "output_type": "stream",
     "text": [
      "Original array: [    1   256 65535]\n",
      "After byte swap: [  256     1 65535]\n"
     ]
    }
   ],
   "source": [
    "arr = np.array([1, 256, 65535], dtype='uint16')\n",
    "print(\"Original array:\", arr)\n",
    "arr.byteswap(inplace=True)\n",
    "print(\"After byte swap:\", arr)\n"
   ]
  },
  {
   "cell_type": "code",
   "execution_count": null,
   "id": "138dfab1-dc52-4d13-8b97-ea1bd9d1576a",
   "metadata": {},
   "outputs": [],
   "source": []
  }
 ],
 "metadata": {
  "kernelspec": {
   "display_name": "Python 3 (ipykernel)",
   "language": "python",
   "name": "python3"
  },
  "language_info": {
   "codemirror_mode": {
    "name": "ipython",
    "version": 3
   },
   "file_extension": ".py",
   "mimetype": "text/x-python",
   "name": "python",
   "nbconvert_exporter": "python",
   "pygments_lexer": "ipython3",
   "version": "3.12.4"
  }
 },
 "nbformat": 4,
 "nbformat_minor": 5
}
